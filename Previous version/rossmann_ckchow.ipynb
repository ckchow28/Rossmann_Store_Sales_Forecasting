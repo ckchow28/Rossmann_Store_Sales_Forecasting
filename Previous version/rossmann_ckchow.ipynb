{
 "cells": [
  {
   "cell_type": "markdown",
   "metadata": {},
   "source": [
    "### imports"
   ]
  },
  {
   "cell_type": "code",
   "execution_count": 1,
   "metadata": {},
   "outputs": [],
   "source": [
    "import pandas as pd\n",
    "import numpy as np\n",
    "import seaborn as sns\n",
    "import matplotlib.pyplot as plt\n",
    "\n",
    "from sklearn.linear_model import LinearRegression, Lasso, Ridge\n",
    "from sklearn.model_selection import train_test_split, cross_validate, RepeatedKFold \n",
    "from sklearn.metrics import r2_score, mean_absolute_error, mean_squared_error, precision_score, accuracy_score, recall_score, confusion_matrix\n",
    "from sklearn.experimental import enable_iterative_imputer\n",
    "from sklearn.impute import SimpleImputer, KNNImputer, IterativeImputer\n",
    "from sklearn.neighbors import KNeighborsClassifier,KNeighborsRegressor\n",
    "from sklearn.preprocessing import MinMaxScaler, StandardScaler\n",
    "from sklearn.ensemble import RandomForestRegressor\n",
    "\n",
    "import warnings\n",
    "warnings.filterwarnings(\"ignore\")"
   ]
  },
  {
   "cell_type": "markdown",
   "metadata": {},
   "source": [
    "## Data cleaning"
   ]
  },
  {
   "cell_type": "markdown",
   "metadata": {},
   "source": [
    "<hr style=\"border: 2px solid #95e89e\">\n",
    "\n",
    "### I. filtering data to selected observation (top 20%)\n",
    "\n",
    "#### what happens in these next 2 blocks of codes:\n",
    "\n",
    "- importing datasets\n",
    "- limiting the store dataset, `Rossmann_store.csv` to just the top 20% of stores in terms of sales\n",
    "    - done by: calc avg sales for each store, then take top 20% of stores in terms of sales\n",
    "- similarly, we wanna limit the other dataset we will use, `Rossmann_train.csv` so that it only gives us details of the top 20% sales stores\n",
    "    - done by: filtering by the Store IDs based on those present in our t20 store df obtained earlier\n"
   ]
  },
  {
   "cell_type": "markdown",
   "metadata": {},
   "source": [
    "<i>use this:</i>"
   ]
  },
  {
   "cell_type": "code",
   "execution_count": 2,
   "metadata": {},
   "outputs": [],
   "source": [
    "# importing datasets\n",
    "rossmann_store = pd.read_csv(\"data\\Rossmann_store.csv\")\n",
    "rossmann_sales = pd.read_csv(\"data\\Rossmann_train.csv\") # from here on the train dataset will be referred to as the sales dataset"
   ]
  },
  {
   "cell_type": "markdown",
   "metadata": {},
   "source": [
    "<i>followed by this:</i>"
   ]
  },
  {
   "cell_type": "code",
   "execution_count": 3,
   "metadata": {},
   "outputs": [],
   "source": [
    "# creating a function to calculate the average sales for a store\n",
    "def calc_avg_sales(store_id: int)-> float:\n",
    "    \"\"\"This function takes a store ID and returns the average sales value for that store.\"\"\"\n",
    "    a_store = rossmann_sales.loc[ (rossmann_sales['Store'] == store_id) ]\n",
    "    avg_sales = a_store['Sales'].mean()\n",
    "    return avg_sales.round(2)\n",
    "\n",
    "# calculating and recording the average sales for each store\n",
    "store_avg_sales = []\n",
    "for i in range(1,1116):\n",
    "    store_avg_sales.append(calc_avg_sales(i))\n",
    "\n",
    "# adding the average sales data for each store into the store dataset\n",
    "rossmann_store_w_avg = pd.concat([rossmann_store, pd.DataFrame({'AverageSales' : store_avg_sales})], axis=1)\n",
    "\n",
    "# taking the top 20 percent of stores in terms of sales\n",
    "rossmann_store_t20 = \\\n",
    "rossmann_store_w_avg.loc[ (rossmann_store_w_avg['AverageSales'] >= rossmann_store_w_avg['AverageSales'].quantile(0.8)) ]\n",
    "\n",
    "# filtering the sales dataset\n",
    "rossmann_sales_t20 = rossmann_sales.loc[ rossmann_sales['Store'].isin(rossmann_store_t20['Store']) ]"
   ]
  },
  {
   "cell_type": "markdown",
   "metadata": {},
   "source": [
    "<hr style=\"border: 2px solid #73deb0\">\n",
    "\n",
    "### II. merging datasets & imputation of missing values for Promo2-related columns\n",
    "\n",
    "#### what happens in this next block of code (done with method chaining):\n",
    "- merged datasets\n",
    "- convert `Date` dtype to datetime\n",
    "- to reduce confusion, renamed `PromoInterval` to `Promo2Interval` since it's referring to Promo2\n",
    "\n",
    "- filled in missing values for `Promo2SinceWeek`, `Promo2SinceYear`, and `Promo2Interval`\n",
    "    - `Promo2SinceWeek`, `Promo2SinceYear` : replaced NaN with <b>0</b> if `Promo2` == 0\n",
    "    - `Promo2Interval` : replaced NaN with <b>NA</b> (= Not Applicable) if `Promo2` == 0\n",
    "\n",
    "- created a new column with category codes: `Promo2IntervalCat`\n",
    "    - category <b>0</b> is <b>NA</b>\n",
    "    - category <b>1</b> is <b>Jan,Apr,Jul,Oct</b>\n",
    "    - category <b>2</b> is <b>Feb,May,Aug,Nov</b>\n",
    "    - category <b>3</b> is <b>Mar,Jun,Sept,Dec</b>\n"
   ]
  },
  {
   "cell_type": "markdown",
   "metadata": {},
   "source": [
    "<i>continue from previous section, now use this:</i>"
   ]
  },
  {
   "cell_type": "code",
   "execution_count": 4,
   "metadata": {},
   "outputs": [],
   "source": [
    "rossmann = (\n",
    "    pd.merge(rossmann_store_t20, rossmann_sales_t20, on='Store', how='right')   # merging the filtered datasets\n",
    "    .assign(Date = lambda df: pd.to_datetime(df['Date']))                       # converting Date dtype from to datetime\n",
    "    .rename(columns={'PromoInterval':'Promo2Interval'})                           # renaming PromoInterval to Promo2Interval\n",
    "    .fillna({'Promo2SinceWeek':'0','Promo2SinceYear':'0','Promo2Interval':'NA'})  # filling in some missing values\n",
    "    \n",
    "    # creating a new column to categorize Promo2Interval\n",
    "    .assign(Promo2IntervalCat = lambda df: df['Promo2Interval']\n",
    "            .astype('category')\n",
    "           )\n",
    "    \n",
    "    # changing categories to categorical codes for the new column\n",
    "    .assign(Promo2IntervalCat = lambda df: pd.Categorical(df['Promo2IntervalCat'], categories= \\\n",
    "                                                          ['NA','Jan,Apr,Jul,Oct','Feb,May,Aug,Nov','Mar,Jun,Sept,Dec'])\n",
    "            .codes\n",
    "           )\n",
    "    \n",
    "    .set_index('Date')   # setting the Date as our index\n",
    ")"
   ]
  },
  {
   "cell_type": "code",
   "execution_count": 5,
   "metadata": {},
   "outputs": [
    {
     "data": {
      "text/plain": [
       "Store                            0\n",
       "StoreType                        0\n",
       "Assortment                       0\n",
       "CompetitionDistance              0\n",
       "CompetitionOpenSinceMonth    57874\n",
       "CompetitionOpenSinceYear     57874\n",
       "Promo2                           0\n",
       "Promo2SinceWeek                  0\n",
       "Promo2SinceYear                  0\n",
       "Promo2Interval                   0\n",
       "AverageSales                     0\n",
       "DayOfWeek                        0\n",
       "Sales                            0\n",
       "Customers                        0\n",
       "Open                             0\n",
       "Promo                            0\n",
       "StateHoliday                     0\n",
       "SchoolHoliday                    0\n",
       "Promo2IntervalCat                0\n",
       "dtype: int64"
      ]
     },
     "execution_count": 5,
     "metadata": {},
     "output_type": "execute_result"
    }
   ],
   "source": [
    "rossmann.isna().sum()"
   ]
  },
  {
   "cell_type": "markdown",
   "metadata": {},
   "source": [
    "* We observe missing values only exists in `CompetitionOpenSinceMonth` and `CompetitionOpenSinceYear` columns."
   ]
  },
  {
   "cell_type": "markdown",
   "metadata": {},
   "source": [
    "<hr style=\"border: 2px solid #73deb0\">\n",
    "\n",
    "### III. Imputation for continuous data\n",
    "\n",
    "#### What happens in this next block of code:\n",
    "- Note that `pipe` method is used as there are multiple data processing functions to call for readability and clarity of code.<br><br>\n",
    "\n",
    "- **Preliminary Analysis** \n",
    "    - setting up **k-Nearest Neighbours** model to observe test scores for different imputation methods\n",
    "    - test scores includes `accuracy`, `precision` and `recall`.\n",
    "    - Investigate the most suitable k value to be used in the KNN model using the `elbow method`\n",
    "<br>\n",
    "\n",
    "- **Simple imputation**\n",
    "    - **Mean** and **Median** imputation is used\n",
    "    - **Testing scores** are computed\n",
    "    - plot distribution graph for **target** and **feature** variables to observe appropriateness of imputation methods\n",
    "<br>\n",
    "\n",
    "- **KNN imputation**\n",
    "    - try `KNeighborsRegressor` using normalized data\n",
    "    - plot distribution graph for **target** and **feature** variables to observe appropriateness of imputation methods\n",
    "<br>\n",
    "\n",
    "- **Linear Regression Imputation**\n",
    "    - Plot `heatmap` to investigate correlation between variables\n",
    "    - Use the `IterativeImputer` to impute missing data between the imputation columns and columns with the highest correlation with imputation columns\n",
    "    - plot distribution graph for **target** and **feature** variables to observe appropriateness of imputation methods\n",
    "<br>\n",
    "\n",
    "- **Forest Imputation**\n",
    "    - Use the combination fo `IterativeImputer` and `RandomForestRegressor` to impute missing values.\n",
    "    - plot distribution graph for **target** and **feature** variables to observe appropriateness of imputation methods\n",
    "<br>\n",
    "\n",
    "- **Imputation Conclusion**\n",
    "    - Concluding imputation findings.\n",
    "    - Choose the best way of imputation\n",
    "\n",
    "<hr>\n"
   ]
  },
  {
   "cell_type": "markdown",
   "metadata": {},
   "source": [
    "#### **Preliminary Analysis**"
   ]
  },
  {
   "cell_type": "markdown",
   "metadata": {},
   "source": [
    "* Setting up **k-Nearest Neighbours model**"
   ]
  },
  {
   "cell_type": "code",
   "execution_count": 6,
   "metadata": {},
   "outputs": [],
   "source": [
    "def kNN_model(df,feature_columns, target, n):\n",
    "    Xf = df[feature_columns]\n",
    "    Yf = df[[target]]\n",
    "    \n",
    "    X_train, X_test, Y_train, Y_test = train_test_split(Xf, Yf, test_size=0.2, random_state=0)\n",
    "    kNN = KNeighborsClassifier(n_neighbors=n)\n",
    "    kNN.fit(X_train, Y_train.values.ravel())  # fit the data to the model\n",
    "    Y_pred = kNN.predict(X_test)  # Predict the target values from the test feature data\n",
    "\n",
    "    acc = accuracy_score(Y_test, Y_pred)\n",
    "    prec = precision_score(Y_test, Y_pred, average='binary' if len(Yf[target].unique()) == 2 else 'weighted')\n",
    "    rec = recall_score(Y_test, Y_pred, average='binary' if len(Yf[target].unique()) == 2 else 'weighted')\n",
    "    \n",
    "    print(\"\\n\")\n",
    "    print(f'Testing scores: accuracy {acc:.3f}, precision {prec:.3f}, recall {rec:.3f}')"
   ]
  },
  {
   "cell_type": "markdown",
   "metadata": {},
   "source": [
    "* Find the n-neighbors for k-Nearest Neighbours using the elbow method"
   ]
  },
  {
   "cell_type": "code",
   "execution_count": 7,
   "metadata": {},
   "outputs": [],
   "source": [
    "# keep first (may use later)\n",
    "\n",
    "def elbow_method_knn(df, feature_columns, target, max_k=40, test_size=0.2, random_state=14):\n",
    "    # Separate features and target\n",
    "    Xf = df[feature_columns]\n",
    "    Yf = df[target]\n",
    "\n",
    "    # Ensure features and target are aligned\n",
    "    Xf, Yf = Xf.align(Yf, join='inner', axis=0)\n",
    "    \n",
    "    # Split the data into training and testing sets\n",
    "    X_train, X_test, Y_train, Y_test = train_test_split(Xf, Yf, test_size=test_size, random_state=random_state)\n",
    "    \n",
    "    error_rate = []\n",
    "\n",
    "    # Loop through different k values to find the optimal one\n",
    "    for i in range(1, max_k):\n",
    "        knn = KNeighborsClassifier(n_neighbors=i)\n",
    "        knn.fit(X_train, Y_train)\n",
    "        pred_i = knn.predict(X_test)\n",
    "        # Calculate error rate as the proportion of misclassified samples\n",
    "        error_rate.append(np.mean(pred_i != Y_test))\n",
    "    \n",
    "    # Plotting the Mean Absolute Deviation vs. Number of Neighbors\n",
    "    plt.figure(figsize=(12, 6))\n",
    "    plt.plot(range(1, max_k), error_rate, color='blue', linestyle='dashed', marker='o',\n",
    "             markerfacecolor='red', markersize=10)\n",
    "    plt.title('Mean Absolute Deviation vs. Number of Neighbors')\n",
    "    plt.xlabel('Number of Neighbors (k)')\n",
    "    plt.ylabel('Error Rate vs. K Value')\n",
    "    plt.grid(True)\n",
    "    plt.show()\n",
    "    \n",
    "    # Find the optimal number of neighbors\n",
    "    k = np.argmin(error_rate) + 1\n",
    "    return k\n",
    "\n",
    "#optimal_k = elbow_method_knn(rossmann_mean_impute, feature_columns=['CompetitionOpenSinceMonth', 'CompetitionOpenSinceYear'], target='Sales')\n",
    "#print(f\"Optimal number of neighbors for k-NN: {optimal_k}\")\n"
   ]
  },
  {
   "cell_type": "code",
   "execution_count": 8,
   "metadata": {},
   "outputs": [
    {
     "name": "stdout",
     "output_type": "stream",
     "text": [
      "[[26  0  0 ...  0  0  0]\n",
      " [ 0  0  0 ...  0  0  0]\n",
      " [ 0  1  0 ...  0  0  0]\n",
      " ...\n",
      " [ 0  0  0 ...  0  0  0]\n",
      " [ 0  0  0 ...  0  0  0]\n",
      " [ 0  0  0 ...  0  1  0]]\n"
     ]
    },
    {
     "data": {
      "image/png": "[encoded data removed]",
      "text/plain": [
       "<Figure size 1000x600 with 1 Axes>"
      ]
     },
     "metadata": {},
     "output_type": "display_data"
    }
   ],
   "source": [
    "Xf = rossmann[rossmann.select_dtypes(['int','float']).columns.to_list()].dropna().drop_duplicates()\n",
    "Yf = rossmann['Sales']\n",
    "\n",
    "Xf = Xf.loc[~Xf.index.duplicated(keep='first')]\n",
    "Yf = Yf.loc[~Yf.index.duplicated(keep='first')]\n",
    "\n",
    "# Align Xf and Yf to ensure they have the same indices\n",
    "Xf, Yf = Xf.align(Yf, join='inner', axis=0)\n",
    "Xf, Yf = Xf.align(Yf, join='inner', axis=0)\n",
    "\n",
    "\n",
    "# Split the data into training and testing sets\n",
    "X_train, X_test, Y_train, Y_test = train_test_split(Xf, Yf, test_size=0.2, random_state=13)\n",
    "\n",
    "knn = KNeighborsClassifier(n_neighbors=1)\n",
    "knn.fit(X_train,Y_train)\n",
    "pred = knn.predict(X_test)\n",
    "print(confusion_matrix(Y_test,pred))\n",
    "\n",
    "\n",
    "error_rate = []\n",
    "for i in range(1,40):\n",
    "    \n",
    "    knn = KNeighborsClassifier(n_neighbors=i)\n",
    "    knn.fit(X_train,Y_train)\n",
    "    pred_i = knn.predict(X_test)\n",
    "    error_rate.append(np.mean(pred_i != Y_test))\n",
    "\n",
    "plt.figure(figsize=(10,6))\n",
    "plt.plot(range(1,40),error_rate,color='blue', linestyle='dashed', marker='o',\n",
    "         markerfacecolor='red', markersize=10)\n",
    "plt.title('Error Rate vs. K Value')\n",
    "plt.xlabel('K')\n",
    "plt.ylabel('Error Rate');"
   ]
  },
  {
   "cell_type": "markdown",
   "metadata": {},
   "source": [
    "* As shown in the error rate plot above, the optimal k value will be **k=1**"
   ]
  },
  {
   "cell_type": "markdown",
   "metadata": {},
   "source": [
    "#### **Simple imputation**"
   ]
  },
  {
   "cell_type": "markdown",
   "metadata": {},
   "source": [
    "##### Mean Inputation Functions"
   ]
  },
  {
   "cell_type": "code",
   "execution_count": 9,
   "metadata": {},
   "outputs": [],
   "source": [
    "def impute_mean(df):\n",
    "    df_mean = df.copy()\n",
    "    df_mean.fillna(df_mean.mean(),inplace=True)\n",
    "    return df_mean\n",
    "\n",
    "    \n",
    "rossmann_mean_impute = impute_mean(rossmann[rossmann.select_dtypes(['int','float']).columns.to_list()])\n"
   ]
  },
  {
   "cell_type": "markdown",
   "metadata": {},
   "source": [
    "Print the testing scores out:"
   ]
  },
  {
   "cell_type": "code",
   "execution_count": 10,
   "metadata": {},
   "outputs": [
    {
     "name": "stdout",
     "output_type": "stream",
     "text": [
      "Imputation using mean\n",
      "\n",
      "\n",
      "Testing scores: accuracy 0.638, precision 0.680, recall 0.638\n"
     ]
    }
   ],
   "source": [
    "print(\"Imputation using mean\")\n",
    "kNN_model(rossmann_mean_impute,feature_columns=['CompetitionOpenSinceMonth','CompetitionOpenSinceYear','Sales'],target='Sales',n=1)"
   ]
  },
  {
   "cell_type": "markdown",
   "metadata": {},
   "source": [
    "##### Median Inputation Functions"
   ]
  },
  {
   "cell_type": "code",
   "execution_count": 11,
   "metadata": {},
   "outputs": [],
   "source": [
    "def impute_median(df):\n",
    "    df_median = df.copy()\n",
    "    df_median.fillna(df_median.median(),inplace=True)\n",
    "    return df_median\n",
    "\n",
    "\n",
    "rossmann_median_impute = impute_median(rossmann[['CompetitionOpenSinceMonth','CompetitionOpenSinceYear','Sales']])"
   ]
  },
  {
   "cell_type": "markdown",
   "metadata": {},
   "source": [
    "Print the testing scores out:"
   ]
  },
  {
   "cell_type": "code",
   "execution_count": 12,
   "metadata": {},
   "outputs": [
    {
     "name": "stdout",
     "output_type": "stream",
     "text": [
      "Imputation using median\n",
      "\n",
      "\n",
      "Testing scores: accuracy 0.640, precision 0.682, recall 0.640\n"
     ]
    }
   ],
   "source": [
    "print(\"Imputation using median\")\n",
    "kNN_model(rossmann_median_impute,feature_columns=['CompetitionOpenSinceMonth','CompetitionOpenSinceYear','Sales'],target='Sales',n=1)"
   ]
  },
  {
   "cell_type": "markdown",
   "metadata": {},
   "source": [
    "##### Histogram plot "
   ]
  },
  {
   "cell_type": "markdown",
   "metadata": {},
   "source": [
    "* plot histogram to observe the appropriateness of imputation using mean and median"
   ]
  },
  {
   "cell_type": "code",
   "execution_count": 13,
   "metadata": {},
   "outputs": [
    {
     "data": {
      "image/png": "[encoded data removed]",
      "text/plain": [
       "<Figure size 800x800 with 4 Axes>"
      ]
     },
     "metadata": {},
     "output_type": "display_data"
    }
   ],
   "source": [
    "fig, axes = plt.subplots(2,2,figsize=(8, 8))\n",
    "\n",
    "sns.histplot(rossmann_mean_impute, x='CompetitionOpenSinceMonth', stat=\"density\", binwidth=1, color='turquoise', ax=axes[0, 0])\n",
    "axes[0, 0].set_xlabel('CompetitionOpenSinceMonth - Mean')\n",
    "\n",
    "sns.histplot(rossmann_median_impute, x='CompetitionOpenSinceMonth', stat=\"density\", binwidth=1, color='turquoise', ax=axes[1, 0])\n",
    "axes[1, 0].set_xlabel('CompetitionOpenSinceMonth - Median')\n",
    "\n",
    "sns.histplot(rossmann_mean_impute, x='CompetitionOpenSinceYear', stat=\"density\", binwidth=1, color='turquoise', ax=axes[0, 1])\n",
    "axes[0, 1].set_xlabel('CompetitionOpenSinceYear - Mean')\n",
    "\n",
    "sns.histplot(rossmann_median_impute, x='CompetitionOpenSinceYear', stat=\"density\", binwidth=1, color='turquoise', ax=axes[1, 1])\n",
    "axes[1, 1].set_xlabel('CompetitionOpenSinceYear - Median');"
   ]
  },
  {
   "cell_type": "markdown",
   "metadata": {},
   "source": [
    "<hr>\n",
    "\n",
    "**Observations**\n",
    "\n",
    "- By observing the histogram, we observe a **peak** value which differs a lot with other values for both the **mean and median plot** <br>\n",
    "- This indicates that mean and median imputation may not be a suitable way to impute the missing data in `CompetitionOpenSinceYear` and `CompetitionOpenSinceMonth` column.\n",
    "\n",
    "<hr>"
   ]
  },
  {
   "cell_type": "markdown",
   "metadata": {},
   "source": [
    "#### **Knn imputation (Using KNeighborsRegressor)**"
   ]
  },
  {
   "cell_type": "code",
   "execution_count": 16,
   "metadata": {},
   "outputs": [
    {
     "data": {
      "text/plain": [
       "\"\\ny_pred_test_year = model_year.predict(X_test)\\nmse_year = mean_squared_error(y_test_year, y_pred_test_year)\\nr2_year = r2_score(y_test_year, y_pred_test_year)\\n\\n\\ny_pred_test_month = model_month.predict(X_test)\\nmse_month = mean_squared_error(y_test_month, y_pred_test_month)\\nr2_month = r2_score(y_test_month, y_pred_test_month)\\n\\nprint('Year - Mean Squared Error:', mse_year)\\nprint('Year - R^2 Score:', r2_year)\\nprint('Month - Mean Squared Error:', mse_month)\\nprint('Month - R^2 Score:', r2_month)\\n\\n#rkm_imputed.isna().sum()\""
      ]
     },
     "execution_count": 16,
     "metadata": {},
     "output_type": "execute_result"
    }
   ],
   "source": [
    "knn2 = rossmann.select_dtypes(include=['int', 'float']).copy()\n",
    "filtered_rm = knn2.dropna(subset=['CompetitionOpenSinceYear', 'CompetitionOpenSinceMonth'])\n",
    "\n",
    "# Prepare data for training and testing\n",
    "X = filtered_rm[['CompetitionDistance','Promo2']]\n",
    "y_year = filtered_rm['CompetitionOpenSinceYear']\n",
    "y_month = filtered_rm['CompetitionOpenSinceMonth']\n",
    "\n",
    "\n",
    "X_train, X_test, y_train_year, y_test_year = train_test_split(X, y_year, test_size=0.2, random_state=1)\n",
    "X_train, X_test, y_train_month, y_test_month = train_test_split(X, y_month, test_size=0.2, random_state=1)\n",
    "\n",
    "# Train the k-NN models\n",
    "knn_m_year = KNeighborsRegressor(n_neighbors=3, weights='distance')\n",
    "knn_m_month = KNeighborsRegressor(n_neighbors=3, weights='distance')\n",
    "\n",
    "model_year = knn_m_year.fit(X_train, y_train_year)\n",
    "model_month = knn_m_month.fit(X_train, y_train_month)\n",
    "\n",
    "# Find missing values\n",
    "missing_year = knn2['CompetitionOpenSinceYear'].isnull()\n",
    "missing_month = knn2['CompetitionOpenSinceMonth'].isnull()\n",
    "\n",
    "df_missing_year = knn2[['CompetitionDistance','Promo2']][missing_year]\n",
    "df_missing_month = knn2[['CompetitionDistance','Promo2']][missing_month]\n",
    "\n",
    "# Predict and impute missing values\n",
    "year_impute = model_year.predict(df_missing_year)\n",
    "month_impute = model_month.predict(df_missing_month)\n",
    "\n",
    "# Create another data set copy to prevent original DataFrame modification\n",
    "rm_imputed = knn2.copy()\n",
    "\n",
    "# Impute the predicted values \n",
    "rm_imputed.loc[missing_year, 'CompetitionOpenSinceYear'] = year_impute\n",
    "rm_imputed.loc[missing_month, 'CompetitionOpenSinceMonth'] = month_impute\n",
    "\n",
    "rossmann_cat = rossmann.select_dtypes(include=['int8', 'object']).copy()\n",
    "rm_imputed = pd.concat([rm_imputed, rossmann_cat], axis=1)\n",
    "\n",
    "# Evaluate model\n",
    "'''\n",
    "y_pred_test_year = model_year.predict(X_test)\n",
    "mse_year = mean_squared_error(y_test_year, y_pred_test_year)\n",
    "r2_year = r2_score(y_test_year, y_pred_test_year)\n",
    "\n",
    "\n",
    "y_pred_test_month = model_month.predict(X_test)\n",
    "mse_month = mean_squared_error(y_test_month, y_pred_test_month)\n",
    "r2_month = r2_score(y_test_month, y_pred_test_month)\n",
    "\n",
    "print('Year - Mean Squared Error:', mse_year)\n",
    "print('Year - R^2 Score:', r2_year)\n",
    "print('Month - Mean Squared Error:', mse_month)\n",
    "print('Month - R^2 Score:', r2_month)\n",
    "\n",
    "#rkm_imputed.isna().sum()'''"
   ]
  },
  {
   "cell_type": "code",
   "execution_count": 22,
   "metadata": {},
   "outputs": [
    {
     "name": "stdout",
     "output_type": "stream",
     "text": [
      "\n",
      "\n",
      "Testing scores: accuracy 0.559, precision 0.601, recall 0.559\n"
     ]
    }
   ],
   "source": [
    "kNN_model(rm_imputed,['CompetitionOpenSinceYear','CompetitionOpenSinceMonth','Sales'],target='Sales',n=1)"
   ]
  },
  {
   "cell_type": "markdown",
   "metadata": {},
   "source": [
    "<hr>\n",
    "\n",
    "* Plot historgram"
   ]
  },
  {
   "cell_type": "code",
   "execution_count": 23,
   "metadata": {},
   "outputs": [
    {
     "data": {
      "image/png": "[encoded data removed]",
      "text/plain": [
       "<Figure size 900x600 with 2 Axes>"
      ]
     },
     "metadata": {},
     "output_type": "display_data"
    }
   ],
   "source": [
    "# Plot histograms for the imputed values\n",
    "fig, axes = plt.subplots(1, 2, figsize=(9,6))\n",
    "\n",
    "# Histogram for 'CompetitionOpenSinceMonth' linear regression imputation\n",
    "sns.histplot(rm_imputed, x='CompetitionOpenSinceYear', stat=\"density\", binwidth=1, color='turquoise', ax=axes[0])\n",
    "axes[0].set_xlabel('CompetitionOpenSinceYear - KNN revised')\n",
    "\n",
    "# Histogram for 'CompetitionOpenSinceYear' linear regression imputation\n",
    "sns.histplot(rm_imputed, x='CompetitionOpenSinceMonth', stat=\"density\", binwidth=1, color='turquoise', ax=axes[1])\n",
    "axes[1].set_xlabel('CompetitionOpenSinceMonth - KNN revised');"
   ]
  },
  {
   "cell_type": "markdown",
   "metadata": {},
   "source": [
    "<hr>\n",
    "\n",
    "**Observations:**\n",
    "\n",
    "* `CompetitionOpenSinceYear` column\n",
    "    * We observe a **bell shape curve** for inputation of `CompetitionOpenSinceYear` using the `KNN imputation` method.\n",
    "    * This suggests that `KNN imputation` is most likely approriate to impute the missing values in `CompetitionOpenSinceYear`\n",
    "\n",
    "* `CompetitionOpenSinceMonth` column\n",
    "    * We observe some **peaks** in the histogram.\n",
    "    * This means that distribution for `CompetitionOpenSinceMonth` values is not normally distributed using the `KNN imputation` method.\n",
    "    * We may use other methods to perform imputation on `CompetitionOpenSinceMonth` column.\n",
    "\n",
    "\n",
    "<hr>"
   ]
  },
  {
   "cell_type": "markdown",
   "metadata": {},
   "source": [
    "#### **Linear Regression Imputation**"
   ]
  },
  {
   "cell_type": "markdown",
   "metadata": {},
   "source": [
    "##### Heat map"
   ]
  },
  {
   "cell_type": "markdown",
   "metadata": {},
   "source": [
    "* To perform the linear regression imputation, we first have to investigate the feature columns that have the **highest correlation** with the columns that will be imputed.\n",
    "* This will means that we are using `heatmap` to investigate the correlation between variables."
   ]
  },
  {
   "cell_type": "code",
   "execution_count": 24,
   "metadata": {},
   "outputs": [
    {
     "data": {
      "text/html": [
       "<style type=\"text/css\">\n",
       "#T_1b46c_row0_col0, #T_1b46c_row1_col1, #T_1b46c_row2_col2, #T_1b46c_row3_col3, #T_1b46c_row4_col4, #T_1b46c_row5_col5, #T_1b46c_row6_col6, #T_1b46c_row7_col7, #T_1b46c_row8_col8, #T_1b46c_row9_col9, #T_1b46c_row10_col10, #T_1b46c_row11_col11 {\n",
       "  background-color: #b40426;\n",
       "  color: #f1f1f1;\n",
       "}\n",
       "#T_1b46c_row0_col1, #T_1b46c_row1_col4 {\n",
       "  background-color: #6b8df0;\n",
       "  color: #f1f1f1;\n",
       "}\n",
       "#T_1b46c_row0_col2 {\n",
       "  background-color: #4c66d6;\n",
       "  color: #f1f1f1;\n",
       "}\n",
       "#T_1b46c_row0_col3 {\n",
       "  background-color: #82a6fb;\n",
       "  color: #f1f1f1;\n",
       "}\n",
       "#T_1b46c_row0_col4, #T_1b46c_row8_col3 {\n",
       "  background-color: #6485ec;\n",
       "  color: #f1f1f1;\n",
       "}\n",
       "#T_1b46c_row0_col5, #T_1b46c_row9_col1 {\n",
       "  background-color: #7396f5;\n",
       "  color: #f1f1f1;\n",
       "}\n",
       "#T_1b46c_row0_col6, #T_1b46c_row0_col9, #T_1b46c_row1_col6, #T_1b46c_row2_col6, #T_1b46c_row3_col6, #T_1b46c_row4_col6, #T_1b46c_row5_col6 {\n",
       "  background-color: #abc8fd;\n",
       "  color: #000000;\n",
       "}\n",
       "#T_1b46c_row0_col7, #T_1b46c_row4_col9 {\n",
       "  background-color: #a9c6fd;\n",
       "  color: #000000;\n",
       "}\n",
       "#T_1b46c_row0_col8 {\n",
       "  background-color: #97b8ff;\n",
       "  color: #000000;\n",
       "}\n",
       "#T_1b46c_row0_col10, #T_1b46c_row1_col10, #T_1b46c_row2_col10, #T_1b46c_row3_col10, #T_1b46c_row4_col10, #T_1b46c_row5_col10 {\n",
       "  background-color: #98b9ff;\n",
       "  color: #000000;\n",
       "}\n",
       "#T_1b46c_row0_col11, #T_1b46c_row6_col1, #T_1b46c_row6_col5, #T_1b46c_row10_col1, #T_1b46c_row10_col5 {\n",
       "  background-color: #7093f3;\n",
       "  color: #f1f1f1;\n",
       "}\n",
       "#T_1b46c_row1_col0 {\n",
       "  background-color: #4257c9;\n",
       "  color: #f1f1f1;\n",
       "}\n",
       "#T_1b46c_row1_col2, #T_1b46c_row1_col5, #T_1b46c_row2_col0, #T_1b46c_row4_col3, #T_1b46c_row5_col1, #T_1b46c_row5_col4, #T_1b46c_row6_col7, #T_1b46c_row6_col8, #T_1b46c_row6_col9, #T_1b46c_row6_col10, #T_1b46c_row6_col11, #T_1b46c_row9_col6 {\n",
       "  background-color: #3b4cc0;\n",
       "  color: #f1f1f1;\n",
       "}\n",
       "#T_1b46c_row1_col3 {\n",
       "  background-color: #5d7ce6;\n",
       "  color: #f1f1f1;\n",
       "}\n",
       "#T_1b46c_row1_col7, #T_1b46c_row4_col7 {\n",
       "  background-color: #94b6ff;\n",
       "  color: #000000;\n",
       "}\n",
       "#T_1b46c_row1_col8 {\n",
       "  background-color: #6384eb;\n",
       "  color: #f1f1f1;\n",
       "}\n",
       "#T_1b46c_row1_col9 {\n",
       "  background-color: #aec9fc;\n",
       "  color: #000000;\n",
       "}\n",
       "#T_1b46c_row1_col11, #T_1b46c_row4_col11, #T_1b46c_row6_col4, #T_1b46c_row10_col4, #T_1b46c_row11_col1 {\n",
       "  background-color: #6f92f3;\n",
       "  color: #f1f1f1;\n",
       "}\n",
       "#T_1b46c_row2_col1 {\n",
       "  background-color: #506bda;\n",
       "  color: #f1f1f1;\n",
       "}\n",
       "#T_1b46c_row2_col3 {\n",
       "  background-color: #6687ed;\n",
       "  color: #f1f1f1;\n",
       "}\n",
       "#T_1b46c_row2_col4 {\n",
       "  background-color: #516ddb;\n",
       "  color: #f1f1f1;\n",
       "}\n",
       "#T_1b46c_row2_col5, #T_1b46c_row3_col1 {\n",
       "  background-color: #6180e9;\n",
       "  color: #f1f1f1;\n",
       "}\n",
       "#T_1b46c_row2_col7 {\n",
       "  background-color: #a3c2fe;\n",
       "  color: #000000;\n",
       "}\n",
       "#T_1b46c_row2_col8 {\n",
       "  background-color: #88abfd;\n",
       "  color: #000000;\n",
       "}\n",
       "#T_1b46c_row2_col9, #T_1b46c_row3_col9 {\n",
       "  background-color: #adc9fd;\n",
       "  color: #000000;\n",
       "}\n",
       "#T_1b46c_row2_col11, #T_1b46c_row3_col11, #T_1b46c_row5_col3, #T_1b46c_row5_col11, #T_1b46c_row11_col5 {\n",
       "  background-color: #7295f4;\n",
       "  color: #f1f1f1;\n",
       "}\n",
       "#T_1b46c_row3_col0 {\n",
       "  background-color: #5f7fe8;\n",
       "  color: #f1f1f1;\n",
       "}\n",
       "#T_1b46c_row3_col2 {\n",
       "  background-color: #5572df;\n",
       "  color: #f1f1f1;\n",
       "}\n",
       "#T_1b46c_row3_col4, #T_1b46c_row4_col2 {\n",
       "  background-color: #3d50c3;\n",
       "  color: #f1f1f1;\n",
       "}\n",
       "#T_1b46c_row3_col5 {\n",
       "  background-color: #779af7;\n",
       "  color: #f1f1f1;\n",
       "}\n",
       "#T_1b46c_row3_col7, #T_1b46c_row11_col10 {\n",
       "  background-color: #aac7fd;\n",
       "  color: #000000;\n",
       "}\n",
       "#T_1b46c_row3_col8 {\n",
       "  background-color: #8db0fe;\n",
       "  color: #000000;\n",
       "}\n",
       "#T_1b46c_row4_col0, #T_1b46c_row7_col6, #T_1b46c_row8_col1 {\n",
       "  background-color: #3e51c5;\n",
       "  color: #f1f1f1;\n",
       "}\n",
       "#T_1b46c_row4_col1, #T_1b46c_row6_col3, #T_1b46c_row10_col3, #T_1b46c_row11_col3, #T_1b46c_row11_col4 {\n",
       "  background-color: #6c8ff1;\n",
       "  color: #f1f1f1;\n",
       "}\n",
       "#T_1b46c_row4_col5 {\n",
       "  background-color: #3c4ec2;\n",
       "  color: #f1f1f1;\n",
       "}\n",
       "#T_1b46c_row4_col8, #T_1b46c_row7_col3, #T_1b46c_row9_col3 {\n",
       "  background-color: #6e90f2;\n",
       "  color: #f1f1f1;\n",
       "}\n",
       "#T_1b46c_row5_col0 {\n",
       "  background-color: #4a63d3;\n",
       "  color: #f1f1f1;\n",
       "}\n",
       "#T_1b46c_row5_col2, #T_1b46c_row8_col0 {\n",
       "  background-color: #4b64d5;\n",
       "  color: #f1f1f1;\n",
       "}\n",
       "#T_1b46c_row5_col7 {\n",
       "  background-color: #f4c6af;\n",
       "  color: #000000;\n",
       "}\n",
       "#T_1b46c_row5_col8 {\n",
       "  background-color: #f7b093;\n",
       "  color: #000000;\n",
       "}\n",
       "#T_1b46c_row5_col9 {\n",
       "  background-color: #b3cdfb;\n",
       "  color: #000000;\n",
       "}\n",
       "#T_1b46c_row6_col0, #T_1b46c_row8_col4, #T_1b46c_row9_col0, #T_1b46c_row10_col0, #T_1b46c_row11_col0 {\n",
       "  background-color: #485fd1;\n",
       "  color: #f1f1f1;\n",
       "}\n",
       "#T_1b46c_row6_col2, #T_1b46c_row9_col2, #T_1b46c_row10_col2, #T_1b46c_row11_col2 {\n",
       "  background-color: #5b7ae5;\n",
       "  color: #f1f1f1;\n",
       "}\n",
       "#T_1b46c_row7_col0 {\n",
       "  background-color: #4961d2;\n",
       "  color: #f1f1f1;\n",
       "}\n",
       "#T_1b46c_row7_col1, #T_1b46c_row7_col4, #T_1b46c_row8_col6 {\n",
       "  background-color: #5875e1;\n",
       "  color: #f1f1f1;\n",
       "}\n",
       "#T_1b46c_row7_col2 {\n",
       "  background-color: #5470de;\n",
       "  color: #f1f1f1;\n",
       "}\n",
       "#T_1b46c_row7_col5, #T_1b46c_row10_col9 {\n",
       "  background-color: #e4d9d2;\n",
       "  color: #000000;\n",
       "}\n",
       "#T_1b46c_row7_col8 {\n",
       "  background-color: #d75445;\n",
       "  color: #f1f1f1;\n",
       "}\n",
       "#T_1b46c_row7_col9 {\n",
       "  background-color: #e67259;\n",
       "  color: #f1f1f1;\n",
       "}\n",
       "#T_1b46c_row7_col10 {\n",
       "  background-color: #f5c4ac;\n",
       "  color: #000000;\n",
       "}\n",
       "#T_1b46c_row7_col11 {\n",
       "  background-color: #8caffe;\n",
       "  color: #000000;\n",
       "}\n",
       "#T_1b46c_row8_col2 {\n",
       "  background-color: #4e68d8;\n",
       "  color: #f1f1f1;\n",
       "}\n",
       "#T_1b46c_row8_col5, #T_1b46c_row10_col7 {\n",
       "  background-color: #f6bda2;\n",
       "  color: #000000;\n",
       "}\n",
       "#T_1b46c_row8_col7 {\n",
       "  background-color: #d44e41;\n",
       "  color: #f1f1f1;\n",
       "}\n",
       "#T_1b46c_row8_col9 {\n",
       "  background-color: #f39577;\n",
       "  color: #000000;\n",
       "}\n",
       "#T_1b46c_row8_col10 {\n",
       "  background-color: #dcdddd;\n",
       "  color: #000000;\n",
       "}\n",
       "#T_1b46c_row8_col11, #T_1b46c_row10_col11 {\n",
       "  background-color: #85a8fc;\n",
       "  color: #f1f1f1;\n",
       "}\n",
       "#T_1b46c_row9_col4 {\n",
       "  background-color: #6a8bef;\n",
       "  color: #f1f1f1;\n",
       "}\n",
       "#T_1b46c_row9_col5 {\n",
       "  background-color: #7a9df8;\n",
       "  color: #f1f1f1;\n",
       "}\n",
       "#T_1b46c_row9_col7 {\n",
       "  background-color: #e7745b;\n",
       "  color: #f1f1f1;\n",
       "}\n",
       "#T_1b46c_row9_col8 {\n",
       "  background-color: #f59f80;\n",
       "  color: #000000;\n",
       "}\n",
       "#T_1b46c_row9_col10 {\n",
       "  background-color: #d9dce1;\n",
       "  color: #000000;\n",
       "}\n",
       "#T_1b46c_row9_col11 {\n",
       "  background-color: #89acfd;\n",
       "  color: #000000;\n",
       "}\n",
       "#T_1b46c_row10_col6 {\n",
       "  background-color: #536edd;\n",
       "  color: #f1f1f1;\n",
       "}\n",
       "#T_1b46c_row10_col8 {\n",
       "  background-color: #dadce0;\n",
       "  color: #000000;\n",
       "}\n",
       "#T_1b46c_row11_col6 {\n",
       "  background-color: #7b9ff9;\n",
       "  color: #f1f1f1;\n",
       "}\n",
       "#T_1b46c_row11_col7 {\n",
       "  background-color: #bed2f6;\n",
       "  color: #000000;\n",
       "}\n",
       "#T_1b46c_row11_col8 {\n",
       "  background-color: #a5c3fe;\n",
       "  color: #000000;\n",
       "}\n",
       "#T_1b46c_row11_col9 {\n",
       "  background-color: #bfd3f6;\n",
       "  color: #000000;\n",
       "}\n",
       "</style>\n",
       "<table id=\"T_1b46c\">\n",
       "  <thead>\n",
       "    <tr>\n",
       "      <th class=\"blank level0\" >&nbsp;</th>\n",
       "      <th id=\"T_1b46c_level0_col0\" class=\"col_heading level0 col0\" >Store</th>\n",
       "      <th id=\"T_1b46c_level0_col1\" class=\"col_heading level0 col1\" >CompetitionDistance</th>\n",
       "      <th id=\"T_1b46c_level0_col2\" class=\"col_heading level0 col2\" >CompetitionOpenSinceMonth</th>\n",
       "      <th id=\"T_1b46c_level0_col3\" class=\"col_heading level0 col3\" >CompetitionOpenSinceYear</th>\n",
       "      <th id=\"T_1b46c_level0_col4\" class=\"col_heading level0 col4\" >Promo2</th>\n",
       "      <th id=\"T_1b46c_level0_col5\" class=\"col_heading level0 col5\" >AverageSales</th>\n",
       "      <th id=\"T_1b46c_level0_col6\" class=\"col_heading level0 col6\" >DayOfWeek</th>\n",
       "      <th id=\"T_1b46c_level0_col7\" class=\"col_heading level0 col7\" >Sales</th>\n",
       "      <th id=\"T_1b46c_level0_col8\" class=\"col_heading level0 col8\" >Customers</th>\n",
       "      <th id=\"T_1b46c_level0_col9\" class=\"col_heading level0 col9\" >Open</th>\n",
       "      <th id=\"T_1b46c_level0_col10\" class=\"col_heading level0 col10\" >Promo</th>\n",
       "      <th id=\"T_1b46c_level0_col11\" class=\"col_heading level0 col11\" >SchoolHoliday</th>\n",
       "    </tr>\n",
       "  </thead>\n",
       "  <tbody>\n",
       "    <tr>\n",
       "      <th id=\"T_1b46c_level0_row0\" class=\"row_heading level0 row0\" >Store</th>\n",
       "      <td id=\"T_1b46c_row0_col0\" class=\"data row0 col0\" >1.000000</td>\n",
       "      <td id=\"T_1b46c_row0_col1\" class=\"data row0 col1\" >-0.020639</td>\n",
       "      <td id=\"T_1b46c_row0_col2\" class=\"data row0 col2\" >-0.048537</td>\n",
       "      <td id=\"T_1b46c_row0_col3\" class=\"data row0 col3\" >0.078079</td>\n",
       "      <td id=\"T_1b46c_row0_col4\" class=\"data row0 col4\" >-0.035265</td>\n",
       "      <td id=\"T_1b46c_row0_col5\" class=\"data row0 col5\" >0.006755</td>\n",
       "      <td id=\"T_1b46c_row0_col6\" class=\"data row0 col6\" >0.000013</td>\n",
       "      <td id=\"T_1b46c_row0_col7\" class=\"data row0 col7\" >0.002910</td>\n",
       "      <td id=\"T_1b46c_row0_col8\" class=\"data row0 col8\" >0.012172</td>\n",
       "      <td id=\"T_1b46c_row0_col9\" class=\"data row0 col9\" >0.000416</td>\n",
       "      <td id=\"T_1b46c_row0_col10\" class=\"data row0 col10\" >-0.000074</td>\n",
       "      <td id=\"T_1b46c_row0_col11\" class=\"data row0 col11\" >-0.001014</td>\n",
       "    </tr>\n",
       "    <tr>\n",
       "      <th id=\"T_1b46c_level0_row1\" class=\"row_heading level0 row1\" >CompetitionDistance</th>\n",
       "      <td id=\"T_1b46c_row1_col0\" class=\"data row1 col0\" >-0.020639</td>\n",
       "      <td id=\"T_1b46c_row1_col1\" class=\"data row1 col1\" >1.000000</td>\n",
       "      <td id=\"T_1b46c_row1_col2\" class=\"data row1 col2\" >-0.118109</td>\n",
       "      <td id=\"T_1b46c_row1_col3\" class=\"data row1 col3\" >-0.055882</td>\n",
       "      <td id=\"T_1b46c_row1_col4\" class=\"data row1 col4\" >-0.013439</td>\n",
       "      <td id=\"T_1b46c_row1_col5\" class=\"data row1 col5\" >-0.206142</td>\n",
       "      <td id=\"T_1b46c_row1_col6\" class=\"data row1 col6\" >-0.000014</td>\n",
       "      <td id=\"T_1b46c_row1_col7\" class=\"data row1 col7\" >-0.088812</td>\n",
       "      <td id=\"T_1b46c_row1_col8\" class=\"data row1 col8\" >-0.190187</td>\n",
       "      <td id=\"T_1b46c_row1_col9\" class=\"data row1 col9\" >0.009070</td>\n",
       "      <td id=\"T_1b46c_row1_col10\" class=\"data row1 col10\" >0.000081</td>\n",
       "      <td id=\"T_1b46c_row1_col11\" class=\"data row1 col11\" >-0.006431</td>\n",
       "    </tr>\n",
       "    <tr>\n",
       "      <th id=\"T_1b46c_level0_row2\" class=\"row_heading level0 row2\" >CompetitionOpenSinceMonth</th>\n",
       "      <td id=\"T_1b46c_row2_col0\" class=\"data row2 col0\" >-0.048537</td>\n",
       "      <td id=\"T_1b46c_row2_col1\" class=\"data row2 col1\" >-0.118109</td>\n",
       "      <td id=\"T_1b46c_row2_col2\" class=\"data row2 col2\" >1.000000</td>\n",
       "      <td id=\"T_1b46c_row2_col3\" class=\"data row2 col3\" >-0.021087</td>\n",
       "      <td id=\"T_1b46c_row2_col4\" class=\"data row2 col4\" >-0.108020</td>\n",
       "      <td id=\"T_1b46c_row2_col5\" class=\"data row2 col5\" >-0.055378</td>\n",
       "      <td id=\"T_1b46c_row2_col6\" class=\"data row2 col6\" >0.000023</td>\n",
       "      <td id=\"T_1b46c_row2_col7\" class=\"data row2 col7\" >-0.023131</td>\n",
       "      <td id=\"T_1b46c_row2_col8\" class=\"data row2 col8\" >-0.044904</td>\n",
       "      <td id=\"T_1b46c_row2_col9\" class=\"data row2 col9\" >0.003392</td>\n",
       "      <td id=\"T_1b46c_row2_col10\" class=\"data row2 col10\" >-0.000135</td>\n",
       "      <td id=\"T_1b46c_row2_col11\" class=\"data row2 col11\" >0.002586</td>\n",
       "    </tr>\n",
       "    <tr>\n",
       "      <th id=\"T_1b46c_level0_row3\" class=\"row_heading level0 row3\" >CompetitionOpenSinceYear</th>\n",
       "      <td id=\"T_1b46c_row3_col0\" class=\"data row3 col0\" >0.078079</td>\n",
       "      <td id=\"T_1b46c_row3_col1\" class=\"data row3 col1\" >-0.055882</td>\n",
       "      <td id=\"T_1b46c_row3_col2\" class=\"data row3 col2\" >-0.021087</td>\n",
       "      <td id=\"T_1b46c_row3_col3\" class=\"data row3 col3\" >1.000000</td>\n",
       "      <td id=\"T_1b46c_row3_col4\" class=\"data row3 col4\" >-0.185836</td>\n",
       "      <td id=\"T_1b46c_row3_col5\" class=\"data row3 col5\" >0.020800</td>\n",
       "      <td id=\"T_1b46c_row3_col6\" class=\"data row3 col6\" >-0.000064</td>\n",
       "      <td id=\"T_1b46c_row3_col7\" class=\"data row3 col7\" >0.008688</td>\n",
       "      <td id=\"T_1b46c_row3_col8\" class=\"data row3 col8\" >-0.024208</td>\n",
       "      <td id=\"T_1b46c_row3_col9\" class=\"data row3 col9\" >0.006310</td>\n",
       "      <td id=\"T_1b46c_row3_col10\" class=\"data row3 col10\" >0.000372</td>\n",
       "      <td id=\"T_1b46c_row3_col11\" class=\"data row3 col11\" >0.003223</td>\n",
       "    </tr>\n",
       "    <tr>\n",
       "      <th id=\"T_1b46c_level0_row4\" class=\"row_heading level0 row4\" >Promo2</th>\n",
       "      <td id=\"T_1b46c_row4_col0\" class=\"data row4 col0\" >-0.035265</td>\n",
       "      <td id=\"T_1b46c_row4_col1\" class=\"data row4 col1\" >-0.013439</td>\n",
       "      <td id=\"T_1b46c_row4_col2\" class=\"data row4 col2\" >-0.108020</td>\n",
       "      <td id=\"T_1b46c_row4_col3\" class=\"data row4 col3\" >-0.185836</td>\n",
       "      <td id=\"T_1b46c_row4_col4\" class=\"data row4 col4\" >1.000000</td>\n",
       "      <td id=\"T_1b46c_row4_col5\" class=\"data row4 col5\" >-0.198403</td>\n",
       "      <td id=\"T_1b46c_row4_col6\" class=\"data row4 col6\" >0.000141</td>\n",
       "      <td id=\"T_1b46c_row4_col7\" class=\"data row4 col7\" >-0.085478</td>\n",
       "      <td id=\"T_1b46c_row4_col8\" class=\"data row4 col8\" >-0.144386</td>\n",
       "      <td id=\"T_1b46c_row4_col9\" class=\"data row4 col9\" >-0.016304</td>\n",
       "      <td id=\"T_1b46c_row4_col10\" class=\"data row4 col10\" >-0.000817</td>\n",
       "      <td id=\"T_1b46c_row4_col11\" class=\"data row4 col11\" >-0.007521</td>\n",
       "    </tr>\n",
       "    <tr>\n",
       "      <th id=\"T_1b46c_level0_row5\" class=\"row_heading level0 row5\" >AverageSales</th>\n",
       "      <td id=\"T_1b46c_row5_col0\" class=\"data row5 col0\" >0.006755</td>\n",
       "      <td id=\"T_1b46c_row5_col1\" class=\"data row5 col1\" >-0.206142</td>\n",
       "      <td id=\"T_1b46c_row5_col2\" class=\"data row5 col2\" >-0.055378</td>\n",
       "      <td id=\"T_1b46c_row5_col3\" class=\"data row5 col3\" >0.020800</td>\n",
       "      <td id=\"T_1b46c_row5_col4\" class=\"data row5 col4\" >-0.198403</td>\n",
       "      <td id=\"T_1b46c_row5_col5\" class=\"data row5 col5\" >1.000000</td>\n",
       "      <td id=\"T_1b46c_row5_col6\" class=\"data row5 col6\" >-0.000018</td>\n",
       "      <td id=\"T_1b46c_row5_col7\" class=\"data row5 col7\" >0.430832</td>\n",
       "      <td id=\"T_1b46c_row5_col8\" class=\"data row5 col8\" >0.576898</td>\n",
       "      <td id=\"T_1b46c_row5_col9\" class=\"data row5 col9\" >0.031913</td>\n",
       "      <td id=\"T_1b46c_row5_col10\" class=\"data row5 col10\" >0.000102</td>\n",
       "      <td id=\"T_1b46c_row5_col11\" class=\"data row5 col11\" >0.003358</td>\n",
       "    </tr>\n",
       "    <tr>\n",
       "      <th id=\"T_1b46c_level0_row6\" class=\"row_heading level0 row6\" >DayOfWeek</th>\n",
       "      <td id=\"T_1b46c_row6_col0\" class=\"data row6 col0\" >0.000013</td>\n",
       "      <td id=\"T_1b46c_row6_col1\" class=\"data row6 col1\" >-0.000014</td>\n",
       "      <td id=\"T_1b46c_row6_col2\" class=\"data row6 col2\" >0.000023</td>\n",
       "      <td id=\"T_1b46c_row6_col3\" class=\"data row6 col3\" >-0.000064</td>\n",
       "      <td id=\"T_1b46c_row6_col4\" class=\"data row6 col4\" >0.000141</td>\n",
       "      <td id=\"T_1b46c_row6_col5\" class=\"data row6 col5\" >-0.000018</td>\n",
       "      <td id=\"T_1b46c_row6_col6\" class=\"data row6 col6\" >1.000000</td>\n",
       "      <td id=\"T_1b46c_row6_col7\" class=\"data row6 col7\" >-0.492422</td>\n",
       "      <td id=\"T_1b46c_row6_col8\" class=\"data row6 col8\" >-0.368928</td>\n",
       "      <td id=\"T_1b46c_row6_col9\" class=\"data row6 col9\" >-0.513589</td>\n",
       "      <td id=\"T_1b46c_row6_col10\" class=\"data row6 col10\" >-0.392926</td>\n",
       "      <td id=\"T_1b46c_row6_col11\" class=\"data row6 col11\" >-0.206547</td>\n",
       "    </tr>\n",
       "    <tr>\n",
       "      <th id=\"T_1b46c_level0_row7\" class=\"row_heading level0 row7\" >Sales</th>\n",
       "      <td id=\"T_1b46c_row7_col0\" class=\"data row7 col0\" >0.002910</td>\n",
       "      <td id=\"T_1b46c_row7_col1\" class=\"data row7 col1\" >-0.088812</td>\n",
       "      <td id=\"T_1b46c_row7_col2\" class=\"data row7 col2\" >-0.023131</td>\n",
       "      <td id=\"T_1b46c_row7_col3\" class=\"data row7 col3\" >0.008688</td>\n",
       "      <td id=\"T_1b46c_row7_col4\" class=\"data row7 col4\" >-0.085478</td>\n",
       "      <td id=\"T_1b46c_row7_col5\" class=\"data row7 col5\" >0.430832</td>\n",
       "      <td id=\"T_1b46c_row7_col6\" class=\"data row7 col6\" >-0.492422</td>\n",
       "      <td id=\"T_1b46c_row7_col7\" class=\"data row7 col7\" >1.000000</td>\n",
       "      <td id=\"T_1b46c_row7_col8\" class=\"data row7 col8\" >0.860537</td>\n",
       "      <td id=\"T_1b46c_row7_col9\" class=\"data row7 col9\" >0.752449</td>\n",
       "      <td id=\"T_1b46c_row7_col10\" class=\"data row7 col10\" >0.478007</td>\n",
       "      <td id=\"T_1b46c_row7_col11\" class=\"data row7 col11\" >0.091250</td>\n",
       "    </tr>\n",
       "    <tr>\n",
       "      <th id=\"T_1b46c_level0_row8\" class=\"row_heading level0 row8\" >Customers</th>\n",
       "      <td id=\"T_1b46c_row8_col0\" class=\"data row8 col0\" >0.012172</td>\n",
       "      <td id=\"T_1b46c_row8_col1\" class=\"data row8 col1\" >-0.190187</td>\n",
       "      <td id=\"T_1b46c_row8_col2\" class=\"data row8 col2\" >-0.044904</td>\n",
       "      <td id=\"T_1b46c_row8_col3\" class=\"data row8 col3\" >-0.024208</td>\n",
       "      <td id=\"T_1b46c_row8_col4\" class=\"data row8 col4\" >-0.144386</td>\n",
       "      <td id=\"T_1b46c_row8_col5\" class=\"data row8 col5\" >0.576898</td>\n",
       "      <td id=\"T_1b46c_row8_col6\" class=\"data row8 col6\" >-0.368928</td>\n",
       "      <td id=\"T_1b46c_row8_col7\" class=\"data row8 col7\" >0.860537</td>\n",
       "      <td id=\"T_1b46c_row8_col8\" class=\"data row8 col8\" >1.000000</td>\n",
       "      <td id=\"T_1b46c_row8_col9\" class=\"data row8 col9\" >0.637923</td>\n",
       "      <td id=\"T_1b46c_row8_col10\" class=\"data row8 col10\" >0.301030</td>\n",
       "      <td id=\"T_1b46c_row8_col11\" class=\"data row8 col11\" >0.069432</td>\n",
       "    </tr>\n",
       "    <tr>\n",
       "      <th id=\"T_1b46c_level0_row9\" class=\"row_heading level0 row9\" >Open</th>\n",
       "      <td id=\"T_1b46c_row9_col0\" class=\"data row9 col0\" >0.000416</td>\n",
       "      <td id=\"T_1b46c_row9_col1\" class=\"data row9 col1\" >0.009070</td>\n",
       "      <td id=\"T_1b46c_row9_col2\" class=\"data row9 col2\" >0.003392</td>\n",
       "      <td id=\"T_1b46c_row9_col3\" class=\"data row9 col3\" >0.006310</td>\n",
       "      <td id=\"T_1b46c_row9_col4\" class=\"data row9 col4\" >-0.016304</td>\n",
       "      <td id=\"T_1b46c_row9_col5\" class=\"data row9 col5\" >0.031913</td>\n",
       "      <td id=\"T_1b46c_row9_col6\" class=\"data row9 col6\" >-0.513589</td>\n",
       "      <td id=\"T_1b46c_row9_col7\" class=\"data row9 col7\" >0.752449</td>\n",
       "      <td id=\"T_1b46c_row9_col8\" class=\"data row9 col8\" >0.637923</td>\n",
       "      <td id=\"T_1b46c_row9_col9\" class=\"data row9 col9\" >1.000000</td>\n",
       "      <td id=\"T_1b46c_row9_col10\" class=\"data row9 col10\" >0.287123</td>\n",
       "      <td id=\"T_1b46c_row9_col11\" class=\"data row9 col11\" >0.085473</td>\n",
       "    </tr>\n",
       "    <tr>\n",
       "      <th id=\"T_1b46c_level0_row10\" class=\"row_heading level0 row10\" >Promo</th>\n",
       "      <td id=\"T_1b46c_row10_col0\" class=\"data row10 col0\" >-0.000074</td>\n",
       "      <td id=\"T_1b46c_row10_col1\" class=\"data row10 col1\" >0.000081</td>\n",
       "      <td id=\"T_1b46c_row10_col2\" class=\"data row10 col2\" >-0.000135</td>\n",
       "      <td id=\"T_1b46c_row10_col3\" class=\"data row10 col3\" >0.000372</td>\n",
       "      <td id=\"T_1b46c_row10_col4\" class=\"data row10 col4\" >-0.000817</td>\n",
       "      <td id=\"T_1b46c_row10_col5\" class=\"data row10 col5\" >0.000102</td>\n",
       "      <td id=\"T_1b46c_row10_col6\" class=\"data row10 col6\" >-0.392926</td>\n",
       "      <td id=\"T_1b46c_row10_col7\" class=\"data row10 col7\" >0.478007</td>\n",
       "      <td id=\"T_1b46c_row10_col8\" class=\"data row10 col8\" >0.301030</td>\n",
       "      <td id=\"T_1b46c_row10_col9\" class=\"data row10 col9\" >0.287123</td>\n",
       "      <td id=\"T_1b46c_row10_col10\" class=\"data row10 col10\" >1.000000</td>\n",
       "      <td id=\"T_1b46c_row10_col11\" class=\"data row10 col11\" >0.071267</td>\n",
       "    </tr>\n",
       "    <tr>\n",
       "      <th id=\"T_1b46c_level0_row11\" class=\"row_heading level0 row11\" >SchoolHoliday</th>\n",
       "      <td id=\"T_1b46c_row11_col0\" class=\"data row11 col0\" >-0.001014</td>\n",
       "      <td id=\"T_1b46c_row11_col1\" class=\"data row11 col1\" >-0.006431</td>\n",
       "      <td id=\"T_1b46c_row11_col2\" class=\"data row11 col2\" >0.002586</td>\n",
       "      <td id=\"T_1b46c_row11_col3\" class=\"data row11 col3\" >0.003223</td>\n",
       "      <td id=\"T_1b46c_row11_col4\" class=\"data row11 col4\" >-0.007521</td>\n",
       "      <td id=\"T_1b46c_row11_col5\" class=\"data row11 col5\" >0.003358</td>\n",
       "      <td id=\"T_1b46c_row11_col6\" class=\"data row11 col6\" >-0.206547</td>\n",
       "      <td id=\"T_1b46c_row11_col7\" class=\"data row11 col7\" >0.091250</td>\n",
       "      <td id=\"T_1b46c_row11_col8\" class=\"data row11 col8\" >0.069432</td>\n",
       "      <td id=\"T_1b46c_row11_col9\" class=\"data row11 col9\" >0.085473</td>\n",
       "      <td id=\"T_1b46c_row11_col10\" class=\"data row11 col10\" >0.071267</td>\n",
       "      <td id=\"T_1b46c_row11_col11\" class=\"data row11 col11\" >1.000000</td>\n",
       "    </tr>\n",
       "  </tbody>\n",
       "</table>\n"
      ],
      "text/plain": [
       "<pandas.io.formats.style.Styler at 0x1af73aebf80>"
      ]
     },
     "execution_count": 24,
     "metadata": {},
     "output_type": "execute_result"
    }
   ],
   "source": [
    "corr=rossmann.select_dtypes(include=['int','float']).corr()\n",
    "corr.style.background_gradient(cmap='coolwarm')"
   ]
  },
  {
   "cell_type": "markdown",
   "metadata": {},
   "source": [
    "* It seems like the two columns with missing values, `CompetitionOpenSinceYear` and `CompetitionOpenSinceMonth` have a very weak correlation with all other variables in the data set.\n",
    "* In this case, we choose the best possible variable, which is the `Promo2`."
   ]
  },
  {
   "cell_type": "markdown",
   "metadata": {},
   "source": [
    "##### Iterative Imputer (Linear Imputation)"
   ]
  },
  {
   "cell_type": "markdown",
   "metadata": {},
   "source": [
    "* Next, we will use the `Iterative Imputer` to impute missing values in `CompetitionOpenSinceYear` and `CompetitionOpenSinceMonth` columns."
   ]
  },
  {
   "cell_type": "code",
   "execution_count": 25,
   "metadata": {},
   "outputs": [],
   "source": [
    "#Prepare Data\n",
    "rossmann_reg = rossmann.select_dtypes(include=['int', 'float']).copy()\n",
    "feature_columns = ['CompetitionOpenSinceYear', 'CompetitionOpenSinceMonth', 'Promo2']\n",
    "df_to_impute = rossmann_reg[feature_columns]\n",
    "\n",
    "# Instantiate Iterative Imputer \n",
    "imputer = IterativeImputer(estimator=LinearRegression(), random_state=1, max_iter=10)\n",
    "\n",
    "#Fit and Transform Data \n",
    "imputed_data = imputer.fit_transform(df_to_impute)\n",
    "\n",
    "# Impute\n",
    "rossmann_reg[feature_columns] = imputed_data\n",
    "\n",
    "#rossmann_reg.isna().sum()"
   ]
  },
  {
   "cell_type": "code",
   "execution_count": 26,
   "metadata": {},
   "outputs": [
    {
     "name": "stdout",
     "output_type": "stream",
     "text": [
      "\n",
      "\n",
      "Testing scores: accuracy 0.620, precision 0.663, recall 0.620\n"
     ]
    }
   ],
   "source": [
    "kNN_model(rossmann_reg,['CompetitionOpenSinceMonth','CompetitionOpenSinceYear','Sales'],target='Sales',n=1)"
   ]
  },
  {
   "cell_type": "markdown",
   "metadata": {},
   "source": [
    "<hr>\n",
    "\n",
    "* Plot histogram"
   ]
  },
  {
   "cell_type": "code",
   "execution_count": 27,
   "metadata": {},
   "outputs": [
    {
     "data": {
      "image/png": "[encoded data removed]",
      "text/plain": [
       "<Figure size 900x600 with 2 Axes>"
      ]
     },
     "metadata": {},
     "output_type": "display_data"
    }
   ],
   "source": [
    "# Plot histograms for the imputed values\n",
    "fig, axes = plt.subplots(1, 2, figsize=(9,6))\n",
    "\n",
    "# Histogram for 'CompetitionOpenSinceMonth' linear regression imputation\n",
    "sns.histplot(rossmann_reg, x='CompetitionOpenSinceMonth', stat=\"density\", binwidth=1, color='turquoise', ax=axes[0])\n",
    "axes[1].set_xlabel('CompetitionOpenSinceMonth - Linear Regression Imputed')\n",
    "\n",
    "# Histogram for 'CompetitionOpenSinceYear' linear regression imputation\n",
    "sns.histplot(rossmann_reg, x='CompetitionOpenSinceYear', stat=\"density\", binwidth=1, color='turquoise', ax=axes[1])\n",
    "axes[0].set_xlabel('CompetitionOpenSinceYear - Linear Regression Imputed');"
   ]
  },
  {
   "cell_type": "markdown",
   "metadata": {},
   "source": [
    "<hr>\n",
    "\n",
    "**Observations:**\n",
    "\n",
    "* `CompetitionOpenSinceYear` column\n",
    "    * We observe some **peaks** in the histogram.\n",
    "    * This means that distribution for `CompetitionOpenSinceMonth` values is not normally distributed using the `KNN imputation` method.\n",
    "    * We may use other methods to perform imputation on `CompetitionOpenSinceMonth` column.ionOpenSinceYear`\n",
    "\n",
    "* `CompetitionOpenSinceMonth` column\n",
    "    * We observe some **peaks** in the histogram.\n",
    "    * This means that distribution for `CompetitionOpenSinceMonth` values is not normally distributed using the `KNN imputation` method.\n",
    "    * We may use other methods to perform imputation on `CompetitionOpenSinceMonth` column.\n",
    "\n",
    "\n",
    "<hr>"
   ]
  },
  {
   "cell_type": "markdown",
   "metadata": {},
   "source": [
    "#### **Forest Imputation**"
   ]
  },
  {
   "cell_type": "code",
   "execution_count": 28,
   "metadata": {},
   "outputs": [],
   "source": [
    "rossmann_mice = rossmann[['CompetitionOpenSinceMonth','CompetitionOpenSinceYear','Sales']].copy()\n",
    "# Initialize Iterative Imputer with RandomForestRegressor\n",
    "imputer = IterativeImputer(estimator=RandomForestRegressor(n_estimators=1, random_state=0), random_state=0)\n",
    "\n",
    "# Fit and transform data\n",
    "imputed_data = imputer.fit_transform(rossmann_mice)\n",
    "\n",
    "# Convert imputed data back to DataFrame\n",
    "imputed_df = pd.DataFrame(imputed_data, columns=rossmann_mice.columns)\n"
   ]
  },
  {
   "cell_type": "code",
   "execution_count": 29,
   "metadata": {},
   "outputs": [
    {
     "name": "stdout",
     "output_type": "stream",
     "text": [
      "\n",
      "\n",
      "Testing scores: accuracy 0.650, precision 0.692, recall 0.650\n"
     ]
    }
   ],
   "source": [
    "kNN_model(imputed_df,feature_columns=['CompetitionOpenSinceMonth','CompetitionOpenSinceYear','Sales'],target='Sales',n=1)"
   ]
  },
  {
   "cell_type": "markdown",
   "metadata": {},
   "source": [
    "<hr>\n",
    "\n",
    "* Plot histogram"
   ]
  },
  {
   "cell_type": "code",
   "execution_count": 30,
   "metadata": {},
   "outputs": [
    {
     "data": {
      "image/png": "[encoded data removed]",
      "text/plain": [
       "<Figure size 900x600 with 2 Axes>"
      ]
     },
     "metadata": {},
     "output_type": "display_data"
    }
   ],
   "source": [
    "# Plot histograms for the imputed values\n",
    "fig, axes = plt.subplots(1, 2, figsize=(9,6))\n",
    "\n",
    "# Histogram for 'CompetitionOpenSinceMonth' linear regression imputation\n",
    "sns.histplot(imputed_df, x='CompetitionOpenSinceMonth', stat=\"density\", binwidth=1, color='turquoise', ax=axes[0])\n",
    "axes[1].set_xlabel('CompetitionOpenSinceMonth - Forest Imputation')\n",
    "\n",
    "# Histogram for 'CompetitionOpenSinceYear' linear regression imputation\n",
    "sns.histplot(imputed_df, x='CompetitionOpenSinceYear', stat=\"density\", binwidth=1, color='turquoise', ax=axes[1])\n",
    "axes[0].set_xlabel('CompetitionOpenSinceYear - Forest Imputation');"
   ]
  },
  {
   "cell_type": "markdown",
   "metadata": {},
   "source": [
    "<hr>\n",
    "\n",
    "**Observations:**\n",
    "\n",
    "* We get alomsot the same histogram plot as in the KNN imputation method\n",
    "\n",
    "\n",
    "<hr>"
   ]
  },
  {
   "cell_type": "markdown",
   "metadata": {},
   "source": [
    "#### **Imputation conclusion**"
   ]
  },
  {
   "cell_type": "markdown",
   "metadata": {},
   "source": [
    "* As observed in the `heatmap`, we found out that the columns with missing value, specifically `CompetitionOpenSinceYear` and `CompetitionOpenSinceMonth` has a very weak correlation with other variables.\n",
    "    * This suggests that these two feature variables has very minimal effect towards our target variable, the `Sales`.\n",
    "* Hence, we will never get a perfect `bell shape` curve histogram for any of the imputation methods.\n",
    "\n",
    "* The chosen imputation method is <u>KNN imputation</u>"
   ]
  }
 ],
 "metadata": {
  "kernelspec": {
   "display_name": "base",
   "language": "python",
   "name": "python3"
  },
  "language_info": {
   "codemirror_mode": {
    "name": "ipython",
    "version": 3
   },
   "file_extension": ".py",
   "mimetype": "text/x-python",
   "name": "python",
   "nbconvert_exporter": "python",
   "pygments_lexer": "ipython3",
   "version": "3.12.4"
  }
 },
 "nbformat": 4,
 "nbformat_minor": 2
}
